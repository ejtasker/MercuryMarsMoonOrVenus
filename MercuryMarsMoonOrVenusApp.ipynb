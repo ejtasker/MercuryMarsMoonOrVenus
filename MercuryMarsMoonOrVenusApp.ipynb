{
 "cells": [
  {
   "cell_type": "code",
   "execution_count": null,
   "metadata": {},
   "outputs": [],
   "source": [
    "# Run app that was trained in paperspace\n",
    "from fastai.vision.all import *\n",
    "from fastai.vision.widgets import *"
   ]
  },
  {
   "cell_type": "code",
   "execution_count": null,
   "metadata": {},
   "outputs": [],
   "source": [
    "# load trained model\n",
    "path = Path()\n",
    "learn_inf = load_learner(path/'export.pkl')"
   ]
  },
  {
   "cell_type": "code",
   "execution_count": null,
   "metadata": {},
   "outputs": [],
   "source": [
    "header = widgets.HTML(\"<h3 class='text-center'><font color='darkblue'>Mercury, Mars, the Moon, or Venus?</font></h3>\")"
   ]
  },
  {
   "cell_type": "code",
   "execution_count": null,
   "metadata": {},
   "outputs": [],
   "source": [
    "# Define upload button\n",
    "btn_upload = widgets.FileUpload(style={'button_color': 'lightgreen'}, layout=Layout(height='50px'))\n",
    "#btn_upload.layout.width = \"auto\"\n",
    "\n",
    "btn_run = widgets.Button(description='Classify', style={'button_color': 'lightgreen'}, layout=Layout(height='50px'))\n",
    "#btn_run.layout.width = \"auto\"\n",
    "\n",
    "# output widget to show picture\n",
    "out_pl = widgets.Output()\n",
    "\n",
    "# create label that will display the result\n",
    "#lbl_pred = widgets.Label()\n",
    "lbl_pred = widgets.HTML()"
   ]
  },
  {
   "cell_type": "code",
   "execution_count": null,
   "metadata": {},
   "outputs": [],
   "source": [
    "def on_click_classify(change):\n",
    "    img = PILImage.create(btn_upload.data[-1])\n",
    "    out_pl.clear_output()\n",
    "    with out_pl: display(img.to_thumb(128,128))\n",
    "    pred, pred_idx, probs = learn_inf.predict(img)\n",
    "    \n",
    "    planet_color = \"lightgreen\"\n",
    "    if pred == 'moon':\n",
    "        planet_color = \"#797D7F\"\n",
    "    elif pred == 'mercury':\n",
    "        planet_color = \"#2471A3\"\n",
    "    elif pred == 'venus':\n",
    "        planet_color = \"#D4AC0D\"\n",
    "    elif pred == 'mars':\n",
    "        planet_color = \"#922B21\"\n",
    "   \n",
    "    #lbl_pred.value = f'Prediction: {pred}; Probability: {probs[pred_idx]:.04f}'\n",
    "    lbl_pred.value = f\"<h4>Prediction: <font color=planet_color> {pred.capitalize()} </font>; Probability: {probs[pred_idx]:.04f}</h4>\"\n",
    "    \n",
    "btn_run.on_click(on_click_classify)\n",
    "\n"
   ]
  },
  {
   "cell_type": "code",
   "execution_count": null,
   "metadata": {},
   "outputs": [],
   "source": [
    "#VBox([header, widgets.Label(\"Upload a picture of your questionable planetary body:\"), btn_upload, btn_run, out_pl, lbl_pred])\n",
    "\n",
    "title = VBox([header])\n",
    "title.layout.margin = \"0 0 20px 0\"\n",
    "\n",
    "left_box = VBox([widgets.HTML(\"<h4>Upload a picture of your questionable planetary body:</h4>\"), widgets.HTML(\"<h4>And now hit 'classify' to identify:</h4>\")])\n",
    "left_box.layout.margin = \"10px 20px 0 0\"\n",
    "\n",
    "right_box = VBox([btn_upload, btn_run])\n",
    "\n",
    "buttons = HBox([left_box, right_box])\n",
    "\n",
    "VBox([title, buttons, out_pl, lbl_pred])\n"
   ]
  },
  {
   "cell_type": "code",
   "execution_count": null,
   "metadata": {},
   "outputs": [],
   "source": []
  },
  {
   "cell_type": "code",
   "execution_count": null,
   "metadata": {},
   "outputs": [],
   "source": []
  }
 ],
 "metadata": {
  "kernelspec": {
   "display_name": "Python [conda env:fastai] *",
   "language": "python",
   "name": "conda-env-fastai-py"
  }
 },
 "nbformat": 4,
 "nbformat_minor": 4
}
